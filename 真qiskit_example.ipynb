{
 "cells": [
  {
   "cell_type": "code",
   "execution_count": 10,
   "metadata": {},
   "outputs": [],
   "source": [
    "from qiskit import QuantumRegister, ClassicalRegister\n",
    "from qiskit import Aer, execute, QuantumCircuit\n",
    "from qiskit.visualization import plot_histogram\n",
    "from numpy import *"
   ]
  },
  {
   "cell_type": "code",
   "execution_count": 11,
   "metadata": {},
   "outputs": [
    {
     "name": "stdout",
     "output_type": "stream",
     "text": [
      "{'01': 456, '00': 544}\n"
     ]
    }
   ],
   "source": [
    "qreg=QuantumRegister(2)\n",
    "qc=QuantumCircuit(qreg)\n",
    "qc.ry(pi/2,qreg[0])\n",
    "qc.measure_all()\n",
    "qc.draw('mpl')\n",
    "backend = Aer.get_backend('qasm_simulator')\n",
    "job = execute(qc, backend=backend, shots=1000)\n",
    "results=job.result().get_counts()\n",
    "print(results)"
   ]
  }
 ],
 "metadata": {
  "kernelspec": {
   "display_name": "Python 3.9.7 ('base')",
   "language": "python",
   "name": "python3"
  },
  "language_info": {
   "codemirror_mode": {
    "name": "ipython",
    "version": 3
   },
   "file_extension": ".py",
   "mimetype": "text/x-python",
   "name": "python",
   "nbconvert_exporter": "python",
   "pygments_lexer": "ipython3",
   "version": "3.9.7"
  },
  "orig_nbformat": 2,
  "vscode": {
   "interpreter": {
    "hash": "5179d32cf6ec497baf3f8a3ef987cc77c5d2dc691fdde20a56316522f61a7323"
   }
  }
 },
 "nbformat": 4,
 "nbformat_minor": 2
}
