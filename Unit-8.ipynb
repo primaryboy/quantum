{
 "cells": [
  {
   "cell_type": "code",
   "execution_count": 7,
   "metadata": {},
   "outputs": [
    {
     "name": "stderr",
     "output_type": "stream",
     "text": [
      "ibmqfactory.load_account:WARNING:2022-11-07 19:59:32,661: Credentials are already in use. The existing account in the session will be replaced.\n"
     ]
    }
   ],
   "source": [
    "from qiskit import IBMQ\n",
    "\n",
    "\n",
    "provider = IBMQ.load_account()"
   ]
  },
  {
   "cell_type": "code",
   "execution_count": 9,
   "metadata": {},
   "outputs": [
    {
     "name": "stdout",
     "output_type": "stream",
     "text": [
      "<bound method IBMQJob.status of <qiskit.providers.ibmq.job.ibmqjob.IBMQJob object at 0x000002A7FD4B6970>> <bound method IBMQJob.result of <qiskit.providers.ibmq.job.ibmqjob.IBMQJob object at 0x000002A7FD4B6970>>\n",
      "{'000': 44, '001': 56}\n"
     ]
    },
    {
     "data": {
      "image/png": "[encoded data removed]",
      "text/plain": [
       "<Figure size 417.879x264.88 with 1 Axes>"
      ]
     },
     "execution_count": 9,
     "metadata": {},
     "output_type": "execute_result"
    }
   ],
   "source": [
    "from math import pi\n",
    "from qiskit import *\n",
    "\n",
    "qreg=QuantumRegister(2)\n",
    "qc=QuantumCircuit(3)\n",
    "\n",
    "# qc.h(qreg[0])\n",
    "qc.ry(pi/2,[0])\n",
    "qc.measure_all()\n",
    "\n",
    "\n",
    "backend = provider.get_backend('ibmq_qasm_simulator')\n",
    "job = execute(qc, backend=backend, shots=100)\n",
    "results=job.result().get_counts()\n",
    "print(job.status,job.result)\n",
    "print(results)\n",
    "qc.draw('mpl')"
   ]
  }
 ],
 "metadata": {
  "kernelspec": {
   "display_name": "Python 3.9.7 ('base')",
   "language": "python",
   "name": "python3"
  },
  "language_info": {
   "codemirror_mode": {
    "name": "ipython",
    "version": 3
   },
   "file_extension": ".py",
   "mimetype": "text/x-python",
   "name": "python",
   "nbconvert_exporter": "python",
   "pygments_lexer": "ipython3",
   "version": "3.9.7"
  },
  "orig_nbformat": 4,
  "vscode": {
   "interpreter": {
    "hash": "5179d32cf6ec497baf3f8a3ef987cc77c5d2dc691fdde20a56316522f61a7323"
   }
  }
 },
 "nbformat": 4,
 "nbformat_minor": 2
}
