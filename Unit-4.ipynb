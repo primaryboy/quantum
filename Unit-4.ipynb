{
 "cells": [
  {
   "cell_type": "code",
   "execution_count": null,
   "metadata": {},
   "outputs": [],
   "source": [
    "from qiskit.circuit import QuantumCircuit, Parameter ,ParameterVector\n",
    "import numpy as np\n",
    "import matplotlib.pyplot as plt"
   ]
  },
  {
   "cell_type": "code",
   "execution_count": null,
   "metadata": {},
   "outputs": [],
   "source": [
    "theta=Parameter('0')\n",
    "\n",
    "qc=QuantumCircuit(2)\n",
    "qc.rz(theta,0)\n",
    "qc.crz(theta,0,1)\n",
    "qc.draw()"
   ]
  },
  {
   "cell_type": "code",
   "execution_count": null,
   "metadata": {},
   "outputs": [],
   "source": [
    "theta_list=ParameterVector('0', length=2)\n",
    "qc = QuantumCircuit(2)\n",
    "qc.rz(theta_list[0], 0)\n",
    "qc.crz(theta_list[1] ,0 ,1)\n",
    "qc.draw()\n"
   ]
  },
  {
   "cell_type": "code",
   "execution_count": null,
   "metadata": {},
   "outputs": [],
   "source": [
    "theta_para = Parameter('θ')\n",
    "theta_phi = Parameter('Φ')\n",
    "\n",
    "qc_a = QuantumCircuit(1)\n",
    "qc_a.h(0)\n",
    "qc_a.rz(theta_para,0)\n",
    "\n",
    "qc_b = QuantumCircuit(1)\n",
    "qc_b.h(0)\n",
    "qc_b.rz(theta_para, 0)\n",
    "qc_b.rz(theta_phi, 0)\n",
    "\n",
    "\n",
    "np.random.seed(0)\n",
    "num_param = 1000\n",
    "theta = [np.pi*np.random.uniform() for i in range(num_param)]\n",
    "phi = [np.pi*np.random.uniform() for i in range(num_param)]\n",
    "\n",
    "\n",
    "from qiskit.visualization.bloch import Bloch\n",
    "from qiskit.quantum_info import Statevector\n",
    "\n",
    "def state_to_bloch(state_vec):\n",
    "    # Converts state vectors to points on the Bloch sphere\n",
    "    phi = np.angle(state_vec.data[1])-np.angle(state_vec.data[0])\n",
    "    theta = 2*np.arccos(np.abs(state_vec.data[0]))\n",
    "    return [np.sin(theta)*np.cos(phi),np.sin(theta)*np.sin(phi),np.cos(theta)]\n",
    "\n",
    "# Bloch sphere plot formatting\n",
    "width, height = plt.figaspect(1/2)\n",
    "fig=plt.figure(figsize=(width, height))\n",
    "ax1, ax2 = fig.add_subplot(1, 2, 1, projection='3d'), fig.add_subplot(1, 2, 2, projection='3d')\n",
    "b1,b2 = Bloch(axes=ax1), Bloch(axes=ax2)\n",
    "b1.point_color, b2.point_color = ['tab:blue'],['tab:blue']\n",
    "b1.point_marker, b2.point_marker= ['o'],['o']\n",
    "b1.point_size, b2.point_size=[2],[2]\n",
    "\n",
    "# Calculate state vectors for circuit A and circuit B for each set of sampled parameters\n",
    "# and add to their respective Bloch sphere\n",
    "for i in range(num_param):    \n",
    "    state_1=Statevector.from_instruction(qc_a.bind_parameters({theta_para:theta[i]}))\n",
    "    state_2=Statevector.from_instruction(qc_b.bind_parameters({theta_para:theta[i], theta_phi:phi[i]}))\n",
    "    b1.add_points(state_to_bloch(state_1))\n",
    "    b2.add_points(state_to_bloch(state_2))\n",
    "\n",
    "b1.show()\n",
    "b2.show()\n",
    "\n"
   ]
  },
  {
   "cell_type": "code",
   "execution_count": null,
   "metadata": {},
   "outputs": [],
   "source": [
    "from qiskit.circuit.library import TwoLocal\n",
    "qc_twolocal = TwoLocal(num_qubits=3, reps=2, rotation_blocks=['ry','rz'],\n",
    "                entanglement_blocks='cz', skip_final_rotation_layer=True,\n",
    "                insert_barriers=True)\n",
    "\n",
    "qc_twolocal.decompose().draw()"
   ]
  },
  {
   "cell_type": "code",
   "execution_count": null,
   "metadata": {},
   "outputs": [],
   "source": [
    "import math\n",
    "from qiskit import QuantumCircuit\n",
    "\n",
    "desired_state = [\n",
    "    0,\n",
    "    0,\n",
    "    0,\n",
    "    0,\n",
    "    0,\n",
    "    1 / math.sqrt(2),\n",
    "    0,\n",
    "    1 / math.sqrt(2)]\n",
    "\n",
    "qc = QuantumCircuit(3)\n",
    "qc.initialize(desired_state, [0,1,2])\n",
    "qc.decompose().decompose().decompose().decompose().decompose().draw()\n",
    "\n"
   ]
  },
  {
   "cell_type": "code",
   "execution_count": null,
   "metadata": {},
   "outputs": [],
   "source": [
    "qc = QuantumCircuit(3)\n",
    "qc.ry(0, 0)\n",
    "qc.ry(math.pi/2, 1)\n",
    "qc.ry(math.pi , 2)\n",
    "qc.draw()"
   ]
  },
  {
   "cell_type": "code",
   "execution_count": null,
   "metadata": {},
   "outputs": [],
   "source": [
    "from IPython.utils.py3compat import encode\n",
    "from qiskit.circuit.library import EfficientSU2\n",
    "circuit = EfficientSU2(num_qubits=3, reps=1, insert_barriers=True)\n",
    "circuit.decompose().draw()\n",
    "\n",
    "x = [0.1, 0.2, 0.3, 0.4, 0.5, 0.6, 0.7, 0.8, 0.9, 1.0, 1.1, 1.2]\n",
    "encode = circuit.bind_parameters(x)\n",
    "encode.decompose().draw()"
   ]
  },
  {
   "cell_type": "code",
   "execution_count": null,
   "metadata": {},
   "outputs": [],
   "source": [
    "from qiskit.circuit.library import RealAmplitudes\n",
    "ansatz = RealAmplitudes(num_qubits=2, reps=1, entanglement=\"linear\" ).decompose()\n",
    "ansatz.draw()"
   ]
  },
  {
   "cell_type": "code",
   "execution_count": null,
   "metadata": {},
   "outputs": [],
   "source": [
    "from qiskit.opflow import Z, I\n",
    "hamiltonian = Z ^ Z"
   ]
  },
  {
   "cell_type": "code",
   "execution_count": null,
   "metadata": {},
   "outputs": [],
   "source": [
    "from qiskit.opflow import StateFn, PauliExpectation\n",
    "expectation = StateFn(hamiltonian, is_measurement=True) @ StateFn(ansatz)\n",
    "pauli_basis = PauliExpectation().convert(expectation)"
   ]
  },
  {
   "cell_type": "code",
   "execution_count": null,
   "metadata": {},
   "outputs": [],
   "source": [
    "from qiskit import Aer\n",
    "from qiskit.utils import QuantumInstance\n",
    "from qiskit.opflow import PauliExpectation, CircuitSampler\n",
    "\n",
    "quantum_instance = QuantumInstance(Aer.get_backend('qasm_simulator'),\n",
    "                                   # we'll set a seed for reproducibility\n",
    "                                   shots = 8192, seed_simulator = 2718,\n",
    "                                   seed_transpiler = 2718)\n",
    "sampler = CircuitSampler(quantum_instance)\n",
    "\n",
    "def evaluate_expectation(theta):\n",
    "    value_dict = dict(zip(ansatz.parameters, theta))\n",
    "    result = sampler.convert(pauli_basis, params=value_dict).eval()\n",
    "    return np.real(result)"
   ]
  },
  {
   "cell_type": "code",
   "execution_count": null,
   "metadata": {},
   "outputs": [],
   "source": [
    "import numpy as np\n",
    "point = np.random.random(ansatz.num_parameters)\n",
    "INDEX = 2"
   ]
  },
  {
   "cell_type": "code",
   "execution_count": null,
   "metadata": {},
   "outputs": [],
   "source": [
    "EPS = 0.2\n",
    "# make identity vector with a 1 at index ``INDEX``, otherwise 0\n",
    "e_i = np.identity(point.size)[:, INDEX]\n",
    "\n",
    "plus = point + EPS * e_i\n",
    "minus = point - EPS * e_i\n",
    "\n",
    "finite_difference = (\n",
    "    evaluate_expectation(plus) - evaluate_expectation(minus)) / (2 * EPS)\n",
    "print(finite_difference)"
   ]
  },
  {
   "cell_type": "code",
   "execution_count": null,
   "metadata": {},
   "outputs": [],
   "source": [
    "class OptimizerLog:\n",
    "    \"\"\"Log to store optimizer's intermediate results\"\"\"\n",
    "    def __init__(self):\n",
    "        self.loss = []\n",
    "    def update(self, _nfevs, _theta, ftheta, *_):\n",
    "        \"\"\"Save intermediate results. Optimizers pass many values\n",
    "        but we only store the third .\"\"\"\n",
    "        self.loss.append(ftheta)\n",
    "\n",
    "from qiskit.algorithms.optimizers import GradientDescent\n",
    "gd_log = OptimizerLog()\n",
    "gd = GradientDescent(maxiter=300,\n",
    "                     learning_rate=0.01,\n",
    "                     callback=gd_log.update)"
   ]
  },
  {
   "cell_type": "code",
   "execution_count": null,
   "metadata": {},
   "outputs": [],
   "source": [
    "# initial_point = np.random.random(ansatz.num_parameters)\n",
    "initial_point = np.array([0.43253681, 0.09507794, 0.42805949, 0.34210341])"
   ]
  },
  {
   "cell_type": "code",
   "execution_count": null,
   "metadata": {},
   "outputs": [],
   "source": [
    "from qiskit.opflow import Gradient\n",
    "\n",
    "shifter = Gradient('fin_diff', analytic=False, epsilon=EPS)\n",
    "grad = shifter.convert(expectation, params=ansatz.parameters[INDEX])\n",
    "print(grad)\n",
    "\n",
    "value_dict = dict(zip(ansatz.parameters, point))\n",
    "sampler.convert(grad, value_dict).eval().real"
   ]
  },
  {
   "cell_type": "code",
   "execution_count": null,
   "metadata": {},
   "outputs": [],
   "source": [
    "shifter = Gradient()  # parameter-shift rule is the default\n",
    "grad = shifter.convert(expectation, params=ansatz.parameters[INDEX])\n",
    "sampler.convert(grad, value_dict).eval().real"
   ]
  },
  {
   "cell_type": "code",
   "execution_count": null,
   "metadata": {},
   "outputs": [],
   "source": [
    "gradient = Gradient().convert(expectation)\n",
    "gradient_in_pauli_basis = PauliExpectation().convert(gradient)\n",
    "sampler = CircuitSampler(quantum_instance)\n",
    "\n",
    "def evaluate_gradient(theta):\n",
    "    value_dict = dict(zip(ansatz.parameters, theta))\n",
    "    result = sampler.convert(gradient_in_pauli_basis,\n",
    "                             params=value_dict).eval()\n",
    "    return np.real(result)"
   ]
  },
  {
   "cell_type": "code",
   "execution_count": null,
   "metadata": {},
   "outputs": [],
   "source": [
    "result = gd.minimize(\n",
    "    fun=evaluate_expectation,  # function to minimize\n",
    "    x0=initial_point,          # initial point\n",
    "    jac=evaluate_gradient      # function to evaluate gradient\n",
    ")\n",
    "\n",
    "import matplotlib.pyplot as plt\n",
    "plt.figure(figsize=(7, 3))\n",
    "plt.plot(gd_log.loss, label='vanilla gradient descent')\n",
    "plt.axhline(-1, ls='--', c='C3', label='target')\n",
    "plt.ylabel('loss')\n",
    "plt.xlabel('iterations')\n",
    "plt.legend();"
   ]
  },
  {
   "cell_type": "code",
   "execution_count": null,
   "metadata": {},
   "outputs": [],
   "source": []
  }
 ],
 "metadata": {
  "kernelspec": {
   "display_name": "Python 3.9.7 ('base')",
   "language": "python",
   "name": "python3"
  },
  "language_info": {
   "codemirror_mode": {
    "name": "ipython",
    "version": 3
   },
   "file_extension": ".py",
   "mimetype": "text/x-python",
   "name": "python",
   "nbconvert_exporter": "python",
   "pygments_lexer": "ipython3",
   "version": "3.9.7"
  },
  "orig_nbformat": 4,
  "vscode": {
   "interpreter": {
    "hash": "5179d32cf6ec497baf3f8a3ef987cc77c5d2dc691fdde20a56316522f61a7323"
   }
  }
 },
 "nbformat": 4,
 "nbformat_minor": 2
}
