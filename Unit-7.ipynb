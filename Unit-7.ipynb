{
 "cells": [
  {
   "cell_type": "code",
   "execution_count": null,
   "metadata": {},
   "outputs": [],
   "source": [
    "from qiskit.circuit.library import TwoLocal\n",
    "from qiskit.circuit import ParameterVector\n",
    "# from qiskit import QuantumRegister, ClassicalRegister\n",
    "# from qiskit import Aer, execute, QuantumCircuit\n",
    "from qiskit import *\n",
    "from qiskit.visualization import plot_histogram\n",
    "\n",
    "REAL_DIST_NQUBITS = 2\n",
    "real_circuit = QuantumCircuit(REAL_DIST_NQUBITS)\n",
    "real_circuit.h(0)\n",
    "real_circuit.cx(0, 1);\n",
    "generator=TwoLocal(REAL_DIST_NQUBITS,\n",
    "                     # Parameterized single qubit rotations\n",
    "                     ['ry', 'rz'],\n",
    "                     'cz',  # Entangling gate\n",
    "                     'full', # Entanglement structure: all to all\n",
    "                     reps=2, # Number of layers\n",
    "                     parameter_prefix='θ_g',\n",
    "                     name='Generator')\n",
    "\n",
    "generator.decompose().draw()"
   ]
  },
  {
   "cell_type": "code",
   "execution_count": null,
   "metadata": {},
   "outputs": [],
   "source": [
    "disc_weights = ParameterVector('θ_d', 12)\n",
    "discriminator = QuantumCircuit(3, name=\"Discriminator\")\n",
    "discriminator.barrier()\n",
    "discriminator.h(0)\n",
    "discriminator.rx(disc_weights[0], 0)\n",
    "discriminator.ry(disc_weights[1], 0)\n",
    "discriminator.rz(disc_weights[2], 0)\n",
    "discriminator.rx(disc_weights[3], 1)\n",
    "discriminator.ry(disc_weights[4], 1)\n",
    "discriminator.rz(disc_weights[5], 1)\n",
    "discriminator.rx(disc_weights[6], 2)\n",
    "discriminator.ry(disc_weights[7], 2)\n",
    "discriminator.rz(disc_weights[8], 2)\n",
    "discriminator.cx(0, 2)\n",
    "discriminator.cx(1, 2)\n",
    "discriminator.rx(disc_weights[9], 2)\n",
    "discriminator.ry(disc_weights[10], 2)\n",
    "discriminator.rz(disc_weights[11], 2)\n",
    "discriminator.draw()"
   ]
  },
  {
   "cell_type": "code",
   "execution_count": null,
   "metadata": {},
   "outputs": [],
   "source": [
    "N_GPARAMS = generator.num_parameters\n",
    "N_DPARAMS = discriminator.num_parameters\n",
    "# Need extra qubit for the discriminator\n",
    "gen_disc_circuit = QuantumCircuit(REAL_DIST_NQUBITS+1)\n",
    "gen_disc_circuit.compose(generator, inplace=True)\n",
    "gen_disc_circuit.compose(discriminator, inplace=True)\n",
    "gen_disc_circuit.draw()"
   ]
  },
  {
   "cell_type": "code",
   "execution_count": null,
   "metadata": {},
   "outputs": [],
   "source": [
    "real_disc_circuit = QuantumCircuit(REAL_DIST_NQUBITS+1)\n",
    "real_disc_circuit.compose(real_circuit, inplace=True)\n",
    "real_disc_circuit.compose(discriminator, inplace=True)\n",
    "real_disc_circuit.draw()"
   ]
  }
 ],
 "metadata": {
  "kernelspec": {
   "display_name": "Python 3.9.7 ('base')",
   "language": "python",
   "name": "python3"
  },
  "language_info": {
   "codemirror_mode": {
    "name": "ipython",
    "version": 3
   },
   "file_extension": ".py",
   "mimetype": "text/x-python",
   "name": "python",
   "nbconvert_exporter": "python",
   "pygments_lexer": "ipython3",
   "version": "3.9.7"
  },
  "orig_nbformat": 4,
  "vscode": {
   "interpreter": {
    "hash": "5179d32cf6ec497baf3f8a3ef987cc77c5d2dc691fdde20a56316522f61a7323"
   }
  }
 },
 "nbformat": 4,
 "nbformat_minor": 2
}
